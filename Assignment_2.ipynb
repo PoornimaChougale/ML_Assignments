{
 "cells": [
  {
   "cell_type": "code",
   "execution_count": 2,
   "id": "ce00b253",
   "metadata": {},
   "outputs": [],
   "source": [
    "import numpy as np\n",
    "import pandas as pd\n",
    "import matplotlib.pyplot as plt\n",
    "import seaborn as sns\n",
    "from sklearn.model_selection import train_test_split\n",
    "from sklearn.ensemble import RandomForestClassifier\n",
    "from sklearn.feature_selection import SelectFromModel\n",
    "from sklearn.preprocessing import LabelEncoder"
   ]
  },
  {
   "cell_type": "code",
   "execution_count": 106,
   "id": "e99528f1",
   "metadata": {},
   "outputs": [
    {
     "data": {
      "text/html": [
       "<div>\n",
       "<style scoped>\n",
       "    .dataframe tbody tr th:only-of-type {\n",
       "        vertical-align: middle;\n",
       "    }\n",
       "\n",
       "    .dataframe tbody tr th {\n",
       "        vertical-align: top;\n",
       "    }\n",
       "\n",
       "    .dataframe thead th {\n",
       "        text-align: right;\n",
       "    }\n",
       "</style>\n",
       "<table border=\"1\" class=\"dataframe\">\n",
       "  <thead>\n",
       "    <tr style=\"text-align: right;\">\n",
       "      <th></th>\n",
       "      <th>Brand</th>\n",
       "      <th>Item ID</th>\n",
       "      <th>Ram(Gb)</th>\n",
       "      <th>StoraGe(Gb)</th>\n",
       "      <th>Price(Rs)</th>\n",
       "      <th>Processor speed(GHz)</th>\n",
       "      <th>Touch</th>\n",
       "      <th>Color</th>\n",
       "      <th>Weight</th>\n",
       "      <th>DisplAy size(Inch)</th>\n",
       "    </tr>\n",
       "  </thead>\n",
       "  <tbody>\n",
       "    <tr>\n",
       "      <th>0</th>\n",
       "      <td>Apple</td>\n",
       "      <td>32</td>\n",
       "      <td>16</td>\n",
       "      <td>256.0</td>\n",
       "      <td>315000</td>\n",
       "      <td>2.2</td>\n",
       "      <td>No</td>\n",
       "      <td>Space grey</td>\n",
       "      <td>1.83</td>\n",
       "      <td>15.4</td>\n",
       "    </tr>\n",
       "    <tr>\n",
       "      <th>1</th>\n",
       "      <td>Apple</td>\n",
       "      <td>8</td>\n",
       "      <td>8</td>\n",
       "      <td>512.0</td>\n",
       "      <td>232000</td>\n",
       "      <td>3.2</td>\n",
       "      <td>No</td>\n",
       "      <td>Dark Black</td>\n",
       "      <td>1.29</td>\n",
       "      <td>13.3</td>\n",
       "    </tr>\n",
       "    <tr>\n",
       "      <th>2</th>\n",
       "      <td>Apple</td>\n",
       "      <td>32</td>\n",
       "      <td>16</td>\n",
       "      <td>1024.0</td>\n",
       "      <td>382000</td>\n",
       "      <td>2.3</td>\n",
       "      <td>No</td>\n",
       "      <td>Silver</td>\n",
       "      <td>2.00</td>\n",
       "      <td>16.0</td>\n",
       "    </tr>\n",
       "    <tr>\n",
       "      <th>3</th>\n",
       "      <td>Apple</td>\n",
       "      <td>26</td>\n",
       "      <td>8</td>\n",
       "      <td>NaN</td>\n",
       "      <td>195000</td>\n",
       "      <td>2.3</td>\n",
       "      <td>No</td>\n",
       "      <td>Space grey</td>\n",
       "      <td>1.37</td>\n",
       "      <td>13.3</td>\n",
       "    </tr>\n",
       "    <tr>\n",
       "      <th>4</th>\n",
       "      <td>Apple</td>\n",
       "      <td>32</td>\n",
       "      <td>4</td>\n",
       "      <td>128.0</td>\n",
       "      <td>92400</td>\n",
       "      <td>1.8</td>\n",
       "      <td>No</td>\n",
       "      <td>Silver</td>\n",
       "      <td>1.35</td>\n",
       "      <td>11.6</td>\n",
       "    </tr>\n",
       "  </tbody>\n",
       "</table>\n",
       "</div>"
      ],
      "text/plain": [
       "   Brand  Item ID Ram(Gb)  StoraGe(Gb)  Price(Rs)  Processor speed(GHz)  \\\n",
       "0  Apple       32      16        256.0     315000                   2.2   \n",
       "1  Apple        8       8        512.0     232000                   3.2   \n",
       "2  Apple       32      16       1024.0     382000                   2.3   \n",
       "3  Apple       26       8          NaN     195000                   2.3   \n",
       "4  Apple       32       4        128.0      92400                   1.8   \n",
       "\n",
       "   Touch       Color   Weight  DisplAy size(Inch)  \n",
       "0      No  Space grey    1.83                15.4  \n",
       "1      No  Dark Black    1.29                13.3  \n",
       "2      No      Silver    2.00                16.0  \n",
       "3      No  Space grey    1.37                13.3  \n",
       "4      No      Silver    1.35                11.6  "
      ]
     },
     "execution_count": 106,
     "metadata": {},
     "output_type": "execute_result"
    }
   ],
   "source": [
    "df6=pd.read_csv('BrandEDA.csv')\n",
    "df6.head()"
   ]
  },
  {
   "cell_type": "markdown",
   "id": "d615d73d",
   "metadata": {},
   "source": [
    "Check the number of rows and columns"
   ]
  },
  {
   "cell_type": "code",
   "execution_count": 107,
   "id": "3e41f933",
   "metadata": {},
   "outputs": [
    {
     "data": {
      "text/plain": [
       "(30, 10)"
      ]
     },
     "execution_count": 107,
     "metadata": {},
     "output_type": "execute_result"
    }
   ],
   "source": [
    "df6.shape"
   ]
  },
  {
   "cell_type": "markdown",
   "id": "ccf0932a",
   "metadata": {},
   "source": [
    "Check the columns"
   ]
  },
  {
   "cell_type": "code",
   "execution_count": 108,
   "id": "b1e8da0b",
   "metadata": {},
   "outputs": [
    {
     "data": {
      "text/plain": [
       "Index(['Brand', 'Item ID', 'Ram(Gb)', 'StoraGe(Gb)', 'Price(Rs)',\n",
       "       'Processor speed(GHz)', ' Touch ', 'Color ', 'Weight',\n",
       "       'DisplAy size(Inch)'],\n",
       "      dtype='object')"
      ]
     },
     "execution_count": 108,
     "metadata": {},
     "output_type": "execute_result"
    }
   ],
   "source": [
    "df6.columns"
   ]
  },
  {
   "cell_type": "markdown",
   "id": "1db953f3",
   "metadata": {},
   "source": [
    "analysing the brand based on the price\n",
    "Challenges:\n",
    "1)Find NaN data"
   ]
  },
  {
   "cell_type": "code",
   "execution_count": 109,
   "id": "63378947",
   "metadata": {},
   "outputs": [
    {
     "data": {
      "text/plain": [
       "Brand                   0\n",
       "Item ID                 0\n",
       "Ram(Gb)                 1\n",
       "StoraGe(Gb)             2\n",
       "Price(Rs)               0\n",
       "Processor speed(GHz)    0\n",
       " Touch                  0\n",
       "Color                   0\n",
       "Weight                  3\n",
       "DisplAy size(Inch)      0\n",
       "dtype: int64"
      ]
     },
     "execution_count": 109,
     "metadata": {},
     "output_type": "execute_result"
    }
   ],
   "source": [
    "df6.isna().sum()"
   ]
  },
  {
   "cell_type": "markdown",
   "id": "8410ed92",
   "metadata": {},
   "source": [
    "Dropping the NaN's there are very few Nan's"
   ]
  },
  {
   "cell_type": "code",
   "execution_count": 110,
   "id": "94b9e6fe",
   "metadata": {},
   "outputs": [
    {
     "data": {
      "text/html": [
       "<div>\n",
       "<style scoped>\n",
       "    .dataframe tbody tr th:only-of-type {\n",
       "        vertical-align: middle;\n",
       "    }\n",
       "\n",
       "    .dataframe tbody tr th {\n",
       "        vertical-align: top;\n",
       "    }\n",
       "\n",
       "    .dataframe thead th {\n",
       "        text-align: right;\n",
       "    }\n",
       "</style>\n",
       "<table border=\"1\" class=\"dataframe\">\n",
       "  <thead>\n",
       "    <tr style=\"text-align: right;\">\n",
       "      <th></th>\n",
       "      <th>Brand</th>\n",
       "      <th>Item ID</th>\n",
       "      <th>Ram(Gb)</th>\n",
       "      <th>StoraGe(Gb)</th>\n",
       "      <th>Price(Rs)</th>\n",
       "      <th>Processor speed(GHz)</th>\n",
       "      <th>Touch</th>\n",
       "      <th>Color</th>\n",
       "      <th>Weight</th>\n",
       "      <th>DisplAy size(Inch)</th>\n",
       "    </tr>\n",
       "  </thead>\n",
       "  <tbody>\n",
       "    <tr>\n",
       "      <th>0</th>\n",
       "      <td>Apple</td>\n",
       "      <td>32</td>\n",
       "      <td>16</td>\n",
       "      <td>256.0</td>\n",
       "      <td>315000</td>\n",
       "      <td>2.2</td>\n",
       "      <td>No</td>\n",
       "      <td>Space grey</td>\n",
       "      <td>1.83</td>\n",
       "      <td>15.4</td>\n",
       "    </tr>\n",
       "    <tr>\n",
       "      <th>1</th>\n",
       "      <td>Apple</td>\n",
       "      <td>8</td>\n",
       "      <td>8</td>\n",
       "      <td>512.0</td>\n",
       "      <td>232000</td>\n",
       "      <td>3.2</td>\n",
       "      <td>No</td>\n",
       "      <td>Dark Black</td>\n",
       "      <td>1.29</td>\n",
       "      <td>13.3</td>\n",
       "    </tr>\n",
       "    <tr>\n",
       "      <th>2</th>\n",
       "      <td>Apple</td>\n",
       "      <td>32</td>\n",
       "      <td>16</td>\n",
       "      <td>1024.0</td>\n",
       "      <td>382000</td>\n",
       "      <td>2.3</td>\n",
       "      <td>No</td>\n",
       "      <td>Silver</td>\n",
       "      <td>2.00</td>\n",
       "      <td>16.0</td>\n",
       "    </tr>\n",
       "    <tr>\n",
       "      <th>3</th>\n",
       "      <td>Apple</td>\n",
       "      <td>26</td>\n",
       "      <td>8</td>\n",
       "      <td>NaN</td>\n",
       "      <td>195000</td>\n",
       "      <td>2.3</td>\n",
       "      <td>No</td>\n",
       "      <td>Space grey</td>\n",
       "      <td>1.37</td>\n",
       "      <td>13.3</td>\n",
       "    </tr>\n",
       "    <tr>\n",
       "      <th>4</th>\n",
       "      <td>Apple</td>\n",
       "      <td>32</td>\n",
       "      <td>4</td>\n",
       "      <td>128.0</td>\n",
       "      <td>92400</td>\n",
       "      <td>1.8</td>\n",
       "      <td>No</td>\n",
       "      <td>Silver</td>\n",
       "      <td>1.35</td>\n",
       "      <td>11.6</td>\n",
       "    </tr>\n",
       "  </tbody>\n",
       "</table>\n",
       "</div>"
      ],
      "text/plain": [
       "   Brand  Item ID Ram(Gb)  StoraGe(Gb)  Price(Rs)  Processor speed(GHz)  \\\n",
       "0  Apple       32      16        256.0     315000                   2.2   \n",
       "1  Apple        8       8        512.0     232000                   3.2   \n",
       "2  Apple       32      16       1024.0     382000                   2.3   \n",
       "3  Apple       26       8          NaN     195000                   2.3   \n",
       "4  Apple       32       4        128.0      92400                   1.8   \n",
       "\n",
       "   Touch       Color   Weight  DisplAy size(Inch)  \n",
       "0      No  Space grey    1.83                15.4  \n",
       "1      No  Dark Black    1.29                13.3  \n",
       "2      No      Silver    2.00                16.0  \n",
       "3      No  Space grey    1.37                13.3  \n",
       "4      No      Silver    1.35                11.6  "
      ]
     },
     "execution_count": 110,
     "metadata": {},
     "output_type": "execute_result"
    }
   ],
   "source": [
    "df6.dropna()\n",
    "df6.head()"
   ]
  },
  {
   "cell_type": "code",
   "execution_count": 111,
   "id": "5bcbe53d",
   "metadata": {},
   "outputs": [
    {
     "data": {
      "text/plain": [
       "Brand                   0\n",
       "Item ID                 0\n",
       "Ram(Gb)                 1\n",
       "StoraGe(Gb)             2\n",
       "Price(Rs)               0\n",
       "Processor speed(GHz)    0\n",
       " Touch                  0\n",
       "Color                   0\n",
       "Weight                  3\n",
       "DisplAy size(Inch)      0\n",
       "dtype: int64"
      ]
     },
     "execution_count": 111,
     "metadata": {},
     "output_type": "execute_result"
    }
   ],
   "source": [
    "df6.isna().sum()"
   ]
  },
  {
   "cell_type": "markdown",
   "id": "bc4ed20e",
   "metadata": {},
   "source": [
    "Filling the NaN's using LabelEncoder"
   ]
  },
  {
   "cell_type": "code",
   "execution_count": 112,
   "id": "a8dd7fac",
   "metadata": {},
   "outputs": [],
   "source": [
    "from sklearn.preprocessing import LabelEncoder\n",
    "\n",
    "le = LabelEncoder()\n",
    "df6['Ram(Gb)'] = le.fit_transform(df6['Ram(Gb)'])\n",
    "df6['StoraGe(Gb)'] = le.fit_transform(df6['StoraGe(Gb)'])\n",
    "df6['Weight'] = le.fit_transform(df6['Weight'])\n"
   ]
  },
  {
   "cell_type": "code",
   "execution_count": 113,
   "id": "64e7d475",
   "metadata": {},
   "outputs": [
    {
     "data": {
      "text/plain": [
       "0"
      ]
     },
     "execution_count": 113,
     "metadata": {},
     "output_type": "execute_result"
    }
   ],
   "source": [
    "df6['Ram(Gb)'].isna().sum()"
   ]
  },
  {
   "cell_type": "code",
   "execution_count": 114,
   "id": "52acd9ef",
   "metadata": {},
   "outputs": [
    {
     "data": {
      "text/plain": [
       "0"
      ]
     },
     "execution_count": 114,
     "metadata": {},
     "output_type": "execute_result"
    }
   ],
   "source": [
    "df6['StoraGe(Gb)'].isna().sum()"
   ]
  },
  {
   "cell_type": "code",
   "execution_count": 115,
   "id": "71e48276",
   "metadata": {},
   "outputs": [
    {
     "data": {
      "text/plain": [
       "0"
      ]
     },
     "execution_count": 115,
     "metadata": {},
     "output_type": "execute_result"
    }
   ],
   "source": [
    "df6['Weight'].isna().sum()"
   ]
  },
  {
   "cell_type": "code",
   "execution_count": 116,
   "id": "7013a64e",
   "metadata": {},
   "outputs": [
    {
     "data": {
      "text/plain": [
       "Brand                   0\n",
       "Item ID                 0\n",
       "Ram(Gb)                 0\n",
       "StoraGe(Gb)             0\n",
       "Price(Rs)               0\n",
       "Processor speed(GHz)    0\n",
       " Touch                  0\n",
       "Color                   0\n",
       "Weight                  0\n",
       "DisplAy size(Inch)      0\n",
       "dtype: int64"
      ]
     },
     "execution_count": 116,
     "metadata": {},
     "output_type": "execute_result"
    }
   ],
   "source": [
    "df6.isna().sum()"
   ]
  },
  {
   "cell_type": "markdown",
   "id": "caecc317",
   "metadata": {},
   "source": [
    "Few column names having space in the end hence removing the space "
   ]
  },
  {
   "cell_type": "code",
   "execution_count": 119,
   "id": "8a4b4b20",
   "metadata": {},
   "outputs": [
    {
     "data": {
      "text/plain": [
       "Index(['Brand', 'ItemID', 'Ram(Gb)', 'StoraGe(Gb)', 'Price(Rs)',\n",
       "       'Processorspeed(GHz)', 'Touch', 'Color', 'Weight', 'DisplAysize(Inch)'],\n",
       "      dtype='object')"
      ]
     },
     "execution_count": 119,
     "metadata": {},
     "output_type": "execute_result"
    }
   ],
   "source": [
    "df6.columns = df5.columns.str.replace(' ', '')\n",
    "df6.columns"
   ]
  },
  {
   "cell_type": "markdown",
   "id": "f52d7a5b",
   "metadata": {},
   "source": [
    "Checking unique data of Touch to replace the categorical columns to numerical"
   ]
  },
  {
   "cell_type": "code",
   "execution_count": 120,
   "id": "de015620",
   "metadata": {},
   "outputs": [
    {
     "data": {
      "text/plain": [
       "0      No\n",
       "1      No\n",
       "2      No\n",
       "3      No\n",
       "4      No\n",
       "5      No\n",
       "6      No\n",
       "7      No\n",
       "8      No\n",
       "9      No\n",
       "10     No\n",
       "11     No\n",
       "12     No\n",
       "13    Yes\n",
       "14    Yes\n",
       "15    Yes\n",
       "16     No\n",
       "17     No\n",
       "18    Yes\n",
       "19     No\n",
       "20     No\n",
       "21     No\n",
       "22     No\n",
       "23     No\n",
       "24     No\n",
       "25     No\n",
       "26     No\n",
       "27     No\n",
       "28     No\n",
       "29     No\n",
       "Name: Touch, dtype: object"
      ]
     },
     "execution_count": 120,
     "metadata": {},
     "output_type": "execute_result"
    }
   ],
   "source": [
    "df6.Touch"
   ]
  },
  {
   "cell_type": "code",
   "execution_count": 121,
   "id": "7fe00c39",
   "metadata": {},
   "outputs": [
    {
     "data": {
      "text/plain": [
       "0    0\n",
       "1    0\n",
       "2    0\n",
       "Name: Touch, dtype: int64"
      ]
     },
     "execution_count": 121,
     "metadata": {},
     "output_type": "execute_result"
    }
   ],
   "source": [
    "df6.Touch=df6.Touch.map({'No':0,'Yes':1})\n",
    "df6.Touch[:3]"
   ]
  },
  {
   "cell_type": "code",
   "execution_count": 122,
   "id": "b66b3a19",
   "metadata": {},
   "outputs": [
    {
     "data": {
      "text/plain": [
       "array(['Space grey', 'Dark Black', 'Silver', 'Rose Gold', 'Black',\n",
       "       'White'], dtype=object)"
      ]
     },
     "execution_count": 122,
     "metadata": {},
     "output_type": "execute_result"
    }
   ],
   "source": [
    "df6.Color.unique()"
   ]
  },
  {
   "cell_type": "code",
   "execution_count": 124,
   "id": "2a01edce",
   "metadata": {},
   "outputs": [],
   "source": [
    "X = df6.iloc[:,1:]\n",
    "y = df6['Brand']"
   ]
  },
  {
   "cell_type": "code",
   "execution_count": 123,
   "id": "71a0c570",
   "metadata": {},
   "outputs": [
    {
     "data": {
      "text/plain": [
       "0      0\n",
       "1     11\n",
       "2     22\n",
       "3      0\n",
       "4     22\n",
       "5     22\n",
       "6     22\n",
       "7     22\n",
       "8     33\n",
       "9     22\n",
       "10    44\n",
       "11    44\n",
       "12    44\n",
       "13    22\n",
       "14    22\n",
       "15    22\n",
       "16    22\n",
       "17    22\n",
       "18    22\n",
       "19    44\n",
       "20    22\n",
       "21    22\n",
       "22    22\n",
       "23    22\n",
       "24    33\n",
       "25    44\n",
       "26    44\n",
       "27    44\n",
       "28    55\n",
       "29    44\n",
       "Name: Color, dtype: int64"
      ]
     },
     "execution_count": 123,
     "metadata": {},
     "output_type": "execute_result"
    }
   ],
   "source": [
    "df6.Color=df6.Color.map({'Space grey':00, 'Dark Black':11, 'Silver':22, 'Rose Gold':33, 'Black':44,'White':55})\n",
    "df6.Color"
   ]
  },
  {
   "cell_type": "code",
   "execution_count": 125,
   "id": "5f99d08b",
   "metadata": {},
   "outputs": [
    {
     "data": {
      "text/html": [
       "<div>\n",
       "<style scoped>\n",
       "    .dataframe tbody tr th:only-of-type {\n",
       "        vertical-align: middle;\n",
       "    }\n",
       "\n",
       "    .dataframe tbody tr th {\n",
       "        vertical-align: top;\n",
       "    }\n",
       "\n",
       "    .dataframe thead th {\n",
       "        text-align: right;\n",
       "    }\n",
       "</style>\n",
       "<table border=\"1\" class=\"dataframe\">\n",
       "  <thead>\n",
       "    <tr style=\"text-align: right;\">\n",
       "      <th></th>\n",
       "      <th>ItemID</th>\n",
       "      <th>Ram(Gb)</th>\n",
       "      <th>StoraGe(Gb)</th>\n",
       "      <th>Price(Rs)</th>\n",
       "      <th>Processorspeed(GHz)</th>\n",
       "      <th>Touch</th>\n",
       "      <th>Color</th>\n",
       "      <th>Weight</th>\n",
       "      <th>DisplAysize(Inch)</th>\n",
       "    </tr>\n",
       "  </thead>\n",
       "  <tbody>\n",
       "    <tr>\n",
       "      <th>0</th>\n",
       "      <td>32</td>\n",
       "      <td>2</td>\n",
       "      <td>2</td>\n",
       "      <td>315000</td>\n",
       "      <td>2.2</td>\n",
       "      <td>0</td>\n",
       "      <td>0</td>\n",
       "      <td>13</td>\n",
       "      <td>15.4</td>\n",
       "    </tr>\n",
       "    <tr>\n",
       "      <th>1</th>\n",
       "      <td>8</td>\n",
       "      <td>5</td>\n",
       "      <td>4</td>\n",
       "      <td>232000</td>\n",
       "      <td>3.2</td>\n",
       "      <td>0</td>\n",
       "      <td>11</td>\n",
       "      <td>6</td>\n",
       "      <td>13.3</td>\n",
       "    </tr>\n",
       "    <tr>\n",
       "      <th>2</th>\n",
       "      <td>32</td>\n",
       "      <td>2</td>\n",
       "      <td>6</td>\n",
       "      <td>382000</td>\n",
       "      <td>2.3</td>\n",
       "      <td>0</td>\n",
       "      <td>22</td>\n",
       "      <td>16</td>\n",
       "      <td>16.0</td>\n",
       "    </tr>\n",
       "    <tr>\n",
       "      <th>3</th>\n",
       "      <td>26</td>\n",
       "      <td>5</td>\n",
       "      <td>7</td>\n",
       "      <td>195000</td>\n",
       "      <td>2.3</td>\n",
       "      <td>0</td>\n",
       "      <td>0</td>\n",
       "      <td>8</td>\n",
       "      <td>13.3</td>\n",
       "    </tr>\n",
       "    <tr>\n",
       "      <th>4</th>\n",
       "      <td>32</td>\n",
       "      <td>3</td>\n",
       "      <td>0</td>\n",
       "      <td>92400</td>\n",
       "      <td>1.8</td>\n",
       "      <td>0</td>\n",
       "      <td>22</td>\n",
       "      <td>7</td>\n",
       "      <td>11.6</td>\n",
       "    </tr>\n",
       "  </tbody>\n",
       "</table>\n",
       "</div>"
      ],
      "text/plain": [
       "   ItemID  Ram(Gb)  StoraGe(Gb)  Price(Rs)  Processorspeed(GHz)  Touch  Color  \\\n",
       "0      32        2            2     315000                  2.2      0      0   \n",
       "1       8        5            4     232000                  3.2      0     11   \n",
       "2      32        2            6     382000                  2.3      0     22   \n",
       "3      26        5            7     195000                  2.3      0      0   \n",
       "4      32        3            0      92400                  1.8      0     22   \n",
       "\n",
       "   Weight  DisplAysize(Inch)  \n",
       "0      13               15.4  \n",
       "1       6               13.3  \n",
       "2      16               16.0  \n",
       "3       8               13.3  \n",
       "4       7               11.6  "
      ]
     },
     "execution_count": 125,
     "metadata": {},
     "output_type": "execute_result"
    }
   ],
   "source": [
    "X.head()"
   ]
  },
  {
   "cell_type": "code",
   "execution_count": 126,
   "id": "f792626a",
   "metadata": {},
   "outputs": [
    {
     "data": {
      "text/plain": [
       "0    Apple\n",
       "1    Apple\n",
       "2    Apple\n",
       "3    Apple\n",
       "4    Apple\n",
       "Name: Brand, dtype: object"
      ]
     },
     "execution_count": 126,
     "metadata": {},
     "output_type": "execute_result"
    }
   ],
   "source": [
    "y.head()"
   ]
  },
  {
   "cell_type": "code",
   "execution_count": 127,
   "id": "c6ffe9e2",
   "metadata": {},
   "outputs": [],
   "source": [
    "X_train, X_test, y_train, y_test = train_test_split(X, y, test_size=0.2, random_state=42)"
   ]
  },
  {
   "cell_type": "code",
   "execution_count": 128,
   "id": "8af0a906",
   "metadata": {},
   "outputs": [
    {
     "data": {
      "text/html": [
       "<style>#sk-container-id-1 {color: black;background-color: white;}#sk-container-id-1 pre{padding: 0;}#sk-container-id-1 div.sk-toggleable {background-color: white;}#sk-container-id-1 label.sk-toggleable__label {cursor: pointer;display: block;width: 100%;margin-bottom: 0;padding: 0.3em;box-sizing: border-box;text-align: center;}#sk-container-id-1 label.sk-toggleable__label-arrow:before {content: \"▸\";float: left;margin-right: 0.25em;color: #696969;}#sk-container-id-1 label.sk-toggleable__label-arrow:hover:before {color: black;}#sk-container-id-1 div.sk-estimator:hover label.sk-toggleable__label-arrow:before {color: black;}#sk-container-id-1 div.sk-toggleable__content {max-height: 0;max-width: 0;overflow: hidden;text-align: left;background-color: #f0f8ff;}#sk-container-id-1 div.sk-toggleable__content pre {margin: 0.2em;color: black;border-radius: 0.25em;background-color: #f0f8ff;}#sk-container-id-1 input.sk-toggleable__control:checked~div.sk-toggleable__content {max-height: 200px;max-width: 100%;overflow: auto;}#sk-container-id-1 input.sk-toggleable__control:checked~label.sk-toggleable__label-arrow:before {content: \"▾\";}#sk-container-id-1 div.sk-estimator input.sk-toggleable__control:checked~label.sk-toggleable__label {background-color: #d4ebff;}#sk-container-id-1 div.sk-label input.sk-toggleable__control:checked~label.sk-toggleable__label {background-color: #d4ebff;}#sk-container-id-1 input.sk-hidden--visually {border: 0;clip: rect(1px 1px 1px 1px);clip: rect(1px, 1px, 1px, 1px);height: 1px;margin: -1px;overflow: hidden;padding: 0;position: absolute;width: 1px;}#sk-container-id-1 div.sk-estimator {font-family: monospace;background-color: #f0f8ff;border: 1px dotted black;border-radius: 0.25em;box-sizing: border-box;margin-bottom: 0.5em;}#sk-container-id-1 div.sk-estimator:hover {background-color: #d4ebff;}#sk-container-id-1 div.sk-parallel-item::after {content: \"\";width: 100%;border-bottom: 1px solid gray;flex-grow: 1;}#sk-container-id-1 div.sk-label:hover label.sk-toggleable__label {background-color: #d4ebff;}#sk-container-id-1 div.sk-serial::before {content: \"\";position: absolute;border-left: 1px solid gray;box-sizing: border-box;top: 0;bottom: 0;left: 50%;z-index: 0;}#sk-container-id-1 div.sk-serial {display: flex;flex-direction: column;align-items: center;background-color: white;padding-right: 0.2em;padding-left: 0.2em;position: relative;}#sk-container-id-1 div.sk-item {position: relative;z-index: 1;}#sk-container-id-1 div.sk-parallel {display: flex;align-items: stretch;justify-content: center;background-color: white;position: relative;}#sk-container-id-1 div.sk-item::before, #sk-container-id-1 div.sk-parallel-item::before {content: \"\";position: absolute;border-left: 1px solid gray;box-sizing: border-box;top: 0;bottom: 0;left: 50%;z-index: -1;}#sk-container-id-1 div.sk-parallel-item {display: flex;flex-direction: column;z-index: 1;position: relative;background-color: white;}#sk-container-id-1 div.sk-parallel-item:first-child::after {align-self: flex-end;width: 50%;}#sk-container-id-1 div.sk-parallel-item:last-child::after {align-self: flex-start;width: 50%;}#sk-container-id-1 div.sk-parallel-item:only-child::after {width: 0;}#sk-container-id-1 div.sk-dashed-wrapped {border: 1px dashed gray;margin: 0 0.4em 0.5em 0.4em;box-sizing: border-box;padding-bottom: 0.4em;background-color: white;}#sk-container-id-1 div.sk-label label {font-family: monospace;font-weight: bold;display: inline-block;line-height: 1.2em;}#sk-container-id-1 div.sk-label-container {text-align: center;}#sk-container-id-1 div.sk-container {/* jupyter's `normalize.less` sets `[hidden] { display: none; }` but bootstrap.min.css set `[hidden] { display: none !important; }` so we also need the `!important` here to be able to override the default hidden behavior on the sphinx rendered scikit-learn.org. See: https://github.com/scikit-learn/scikit-learn/issues/21755 */display: inline-block !important;position: relative;}#sk-container-id-1 div.sk-text-repr-fallback {display: none;}</style><div id=\"sk-container-id-1\" class=\"sk-top-container\"><div class=\"sk-text-repr-fallback\"><pre>RandomForestClassifier(random_state=42)</pre><b>In a Jupyter environment, please rerun this cell to show the HTML representation or trust the notebook. <br />On GitHub, the HTML representation is unable to render, please try loading this page with nbviewer.org.</b></div><div class=\"sk-container\" hidden><div class=\"sk-item\"><div class=\"sk-estimator sk-toggleable\"><input class=\"sk-toggleable__control sk-hidden--visually\" id=\"sk-estimator-id-1\" type=\"checkbox\" checked><label for=\"sk-estimator-id-1\" class=\"sk-toggleable__label sk-toggleable__label-arrow\">RandomForestClassifier</label><div class=\"sk-toggleable__content\"><pre>RandomForestClassifier(random_state=42)</pre></div></div></div></div></div>"
      ],
      "text/plain": [
       "RandomForestClassifier(random_state=42)"
      ]
     },
     "execution_count": 128,
     "metadata": {},
     "output_type": "execute_result"
    }
   ],
   "source": [
    "rf_model = RandomForestClassifier(n_estimators=100, random_state=42)\n",
    "rf_model.fit(X_train, y_train)"
   ]
  },
  {
   "cell_type": "code",
   "execution_count": 129,
   "id": "8e049d96",
   "metadata": {},
   "outputs": [
    {
     "data": {
      "text/html": [
       "<style>#sk-container-id-2 {color: black;background-color: white;}#sk-container-id-2 pre{padding: 0;}#sk-container-id-2 div.sk-toggleable {background-color: white;}#sk-container-id-2 label.sk-toggleable__label {cursor: pointer;display: block;width: 100%;margin-bottom: 0;padding: 0.3em;box-sizing: border-box;text-align: center;}#sk-container-id-2 label.sk-toggleable__label-arrow:before {content: \"▸\";float: left;margin-right: 0.25em;color: #696969;}#sk-container-id-2 label.sk-toggleable__label-arrow:hover:before {color: black;}#sk-container-id-2 div.sk-estimator:hover label.sk-toggleable__label-arrow:before {color: black;}#sk-container-id-2 div.sk-toggleable__content {max-height: 0;max-width: 0;overflow: hidden;text-align: left;background-color: #f0f8ff;}#sk-container-id-2 div.sk-toggleable__content pre {margin: 0.2em;color: black;border-radius: 0.25em;background-color: #f0f8ff;}#sk-container-id-2 input.sk-toggleable__control:checked~div.sk-toggleable__content {max-height: 200px;max-width: 100%;overflow: auto;}#sk-container-id-2 input.sk-toggleable__control:checked~label.sk-toggleable__label-arrow:before {content: \"▾\";}#sk-container-id-2 div.sk-estimator input.sk-toggleable__control:checked~label.sk-toggleable__label {background-color: #d4ebff;}#sk-container-id-2 div.sk-label input.sk-toggleable__control:checked~label.sk-toggleable__label {background-color: #d4ebff;}#sk-container-id-2 input.sk-hidden--visually {border: 0;clip: rect(1px 1px 1px 1px);clip: rect(1px, 1px, 1px, 1px);height: 1px;margin: -1px;overflow: hidden;padding: 0;position: absolute;width: 1px;}#sk-container-id-2 div.sk-estimator {font-family: monospace;background-color: #f0f8ff;border: 1px dotted black;border-radius: 0.25em;box-sizing: border-box;margin-bottom: 0.5em;}#sk-container-id-2 div.sk-estimator:hover {background-color: #d4ebff;}#sk-container-id-2 div.sk-parallel-item::after {content: \"\";width: 100%;border-bottom: 1px solid gray;flex-grow: 1;}#sk-container-id-2 div.sk-label:hover label.sk-toggleable__label {background-color: #d4ebff;}#sk-container-id-2 div.sk-serial::before {content: \"\";position: absolute;border-left: 1px solid gray;box-sizing: border-box;top: 0;bottom: 0;left: 50%;z-index: 0;}#sk-container-id-2 div.sk-serial {display: flex;flex-direction: column;align-items: center;background-color: white;padding-right: 0.2em;padding-left: 0.2em;position: relative;}#sk-container-id-2 div.sk-item {position: relative;z-index: 1;}#sk-container-id-2 div.sk-parallel {display: flex;align-items: stretch;justify-content: center;background-color: white;position: relative;}#sk-container-id-2 div.sk-item::before, #sk-container-id-2 div.sk-parallel-item::before {content: \"\";position: absolute;border-left: 1px solid gray;box-sizing: border-box;top: 0;bottom: 0;left: 50%;z-index: -1;}#sk-container-id-2 div.sk-parallel-item {display: flex;flex-direction: column;z-index: 1;position: relative;background-color: white;}#sk-container-id-2 div.sk-parallel-item:first-child::after {align-self: flex-end;width: 50%;}#sk-container-id-2 div.sk-parallel-item:last-child::after {align-self: flex-start;width: 50%;}#sk-container-id-2 div.sk-parallel-item:only-child::after {width: 0;}#sk-container-id-2 div.sk-dashed-wrapped {border: 1px dashed gray;margin: 0 0.4em 0.5em 0.4em;box-sizing: border-box;padding-bottom: 0.4em;background-color: white;}#sk-container-id-2 div.sk-label label {font-family: monospace;font-weight: bold;display: inline-block;line-height: 1.2em;}#sk-container-id-2 div.sk-label-container {text-align: center;}#sk-container-id-2 div.sk-container {/* jupyter's `normalize.less` sets `[hidden] { display: none; }` but bootstrap.min.css set `[hidden] { display: none !important; }` so we also need the `!important` here to be able to override the default hidden behavior on the sphinx rendered scikit-learn.org. See: https://github.com/scikit-learn/scikit-learn/issues/21755 */display: inline-block !important;position: relative;}#sk-container-id-2 div.sk-text-repr-fallback {display: none;}</style><div id=\"sk-container-id-2\" class=\"sk-top-container\"><div class=\"sk-text-repr-fallback\"><pre>SelectFromModel(estimator=RandomForestClassifier(random_state=42),\n",
       "                threshold=&#x27;median&#x27;)</pre><b>In a Jupyter environment, please rerun this cell to show the HTML representation or trust the notebook. <br />On GitHub, the HTML representation is unable to render, please try loading this page with nbviewer.org.</b></div><div class=\"sk-container\" hidden><div class=\"sk-item sk-dashed-wrapped\"><div class=\"sk-label-container\"><div class=\"sk-label sk-toggleable\"><input class=\"sk-toggleable__control sk-hidden--visually\" id=\"sk-estimator-id-2\" type=\"checkbox\" ><label for=\"sk-estimator-id-2\" class=\"sk-toggleable__label sk-toggleable__label-arrow\">SelectFromModel</label><div class=\"sk-toggleable__content\"><pre>SelectFromModel(estimator=RandomForestClassifier(random_state=42),\n",
       "                threshold=&#x27;median&#x27;)</pre></div></div></div><div class=\"sk-parallel\"><div class=\"sk-parallel-item\"><div class=\"sk-item\"><div class=\"sk-label-container\"><div class=\"sk-label sk-toggleable\"><input class=\"sk-toggleable__control sk-hidden--visually\" id=\"sk-estimator-id-3\" type=\"checkbox\" ><label for=\"sk-estimator-id-3\" class=\"sk-toggleable__label sk-toggleable__label-arrow\">estimator: RandomForestClassifier</label><div class=\"sk-toggleable__content\"><pre>RandomForestClassifier(random_state=42)</pre></div></div></div><div class=\"sk-serial\"><div class=\"sk-item\"><div class=\"sk-estimator sk-toggleable\"><input class=\"sk-toggleable__control sk-hidden--visually\" id=\"sk-estimator-id-4\" type=\"checkbox\" ><label for=\"sk-estimator-id-4\" class=\"sk-toggleable__label sk-toggleable__label-arrow\">RandomForestClassifier</label><div class=\"sk-toggleable__content\"><pre>RandomForestClassifier(random_state=42)</pre></div></div></div></div></div></div></div></div></div></div>"
      ],
      "text/plain": [
       "SelectFromModel(estimator=RandomForestClassifier(random_state=42),\n",
       "                threshold='median')"
      ]
     },
     "execution_count": 129,
     "metadata": {},
     "output_type": "execute_result"
    }
   ],
   "source": [
    "sfm = SelectFromModel(rf_model, threshold='median')\n",
    "sfm.fit(X_train, y_train)"
   ]
  },
  {
   "cell_type": "code",
   "execution_count": 130,
   "id": "0679de19",
   "metadata": {},
   "outputs": [
    {
     "name": "stdout",
     "output_type": "stream",
     "text": [
      "Selected Features: Index(['Price(Rs)', 'Touch', 'Color', 'Weight', 'DisplAysize(Inch)'], dtype='object')\n"
     ]
    }
   ],
   "source": [
    "selected_features = X_train.columns[sfm.get_support()]\n",
    "\n",
    "# Display selected features\n",
    "print(\"Selected Features:\", selected_features)"
   ]
  },
  {
   "cell_type": "code",
   "execution_count": 131,
   "id": "3e80389d",
   "metadata": {},
   "outputs": [],
   "source": [
    "X_train_selected = sfm.transform(X_train)\n",
    "X_test_selected = sfm.transform(X_test)"
   ]
  },
  {
   "cell_type": "code",
   "execution_count": 132,
   "id": "6949e667",
   "metadata": {},
   "outputs": [
    {
     "data": {
      "text/plain": [
       "array([[3.320e+04, 0.000e+00, 5.500e+01, 2.000e+01, 1.560e+01],\n",
       "       [1.400e+05, 0.000e+00, 3.300e+01, 7.000e+00, 1.200e+01],\n",
       "       [1.000e+05, 0.000e+00, 4.400e+01, 1.100e+01, 1.560e+01],\n",
       "       [3.150e+05, 0.000e+00, 0.000e+00, 1.300e+01, 1.540e+01],\n",
       "       [9.240e+04, 0.000e+00, 2.200e+01, 7.000e+00, 1.160e+01],\n",
       "       [1.850e+05, 0.000e+00, 2.200e+01, 4.000e+00, 1.330e+01],\n",
       "       [6.000e+04, 0.000e+00, 2.200e+01, 2.000e+00, 1.330e+01],\n",
       "       [1.250e+05, 1.000e+00, 2.200e+01, 1.400e+01, 1.560e+01],\n",
       "       [9.000e+04, 0.000e+00, 4.400e+01, 1.200e+01, 1.560e+01],\n",
       "       [2.000e+05, 0.000e+00, 2.200e+01, 1.300e+01, 1.540e+01],\n",
       "       [2.320e+05, 0.000e+00, 1.100e+01, 6.000e+00, 1.330e+01],\n",
       "       [3.820e+05, 0.000e+00, 2.200e+01, 1.600e+01, 1.600e+01],\n",
       "       [1.700e+05, 0.000e+00, 4.400e+01, 1.800e+01, 1.560e+01],\n",
       "       [1.950e+05, 0.000e+00, 0.000e+00, 8.000e+00, 1.330e+01],\n",
       "       [1.010e+05, 0.000e+00, 2.200e+01, 2.100e+01, 1.100e+01],\n",
       "       [2.500e+04, 0.000e+00, 4.400e+01, 1.000e+01, 1.560e+01],\n",
       "       [2.240e+05, 1.000e+00, 2.200e+01, 3.000e+00, 1.340e+01],\n",
       "       [4.700e+04, 0.000e+00, 4.400e+01, 0.000e+00, 1.250e+01],\n",
       "       [1.320e+05, 0.000e+00, 2.200e+01, 2.100e+01, 1.300e+01],\n",
       "       [2.247e+05, 0.000e+00, 2.200e+01, 4.000e+00, 1.330e+01],\n",
       "       [7.850e+04, 0.000e+00, 4.400e+01, 1.400e+01, 1.560e+01],\n",
       "       [1.220e+05, 1.000e+00, 2.200e+01, 2.100e+01, 1.400e+01],\n",
       "       [2.990e+05, 0.000e+00, 4.400e+01, 1.900e+01, 1.560e+01],\n",
       "       [1.920e+05, 0.000e+00, 2.200e+01, 1.000e+00, 1.200e+01]])"
      ]
     },
     "execution_count": 132,
     "metadata": {},
     "output_type": "execute_result"
    }
   ],
   "source": [
    "X_train_selected"
   ]
  },
  {
   "cell_type": "code",
   "execution_count": 133,
   "id": "45adbaf4",
   "metadata": {},
   "outputs": [
    {
     "data": {
      "text/html": [
       "<style>#sk-container-id-3 {color: black;background-color: white;}#sk-container-id-3 pre{padding: 0;}#sk-container-id-3 div.sk-toggleable {background-color: white;}#sk-container-id-3 label.sk-toggleable__label {cursor: pointer;display: block;width: 100%;margin-bottom: 0;padding: 0.3em;box-sizing: border-box;text-align: center;}#sk-container-id-3 label.sk-toggleable__label-arrow:before {content: \"▸\";float: left;margin-right: 0.25em;color: #696969;}#sk-container-id-3 label.sk-toggleable__label-arrow:hover:before {color: black;}#sk-container-id-3 div.sk-estimator:hover label.sk-toggleable__label-arrow:before {color: black;}#sk-container-id-3 div.sk-toggleable__content {max-height: 0;max-width: 0;overflow: hidden;text-align: left;background-color: #f0f8ff;}#sk-container-id-3 div.sk-toggleable__content pre {margin: 0.2em;color: black;border-radius: 0.25em;background-color: #f0f8ff;}#sk-container-id-3 input.sk-toggleable__control:checked~div.sk-toggleable__content {max-height: 200px;max-width: 100%;overflow: auto;}#sk-container-id-3 input.sk-toggleable__control:checked~label.sk-toggleable__label-arrow:before {content: \"▾\";}#sk-container-id-3 div.sk-estimator input.sk-toggleable__control:checked~label.sk-toggleable__label {background-color: #d4ebff;}#sk-container-id-3 div.sk-label input.sk-toggleable__control:checked~label.sk-toggleable__label {background-color: #d4ebff;}#sk-container-id-3 input.sk-hidden--visually {border: 0;clip: rect(1px 1px 1px 1px);clip: rect(1px, 1px, 1px, 1px);height: 1px;margin: -1px;overflow: hidden;padding: 0;position: absolute;width: 1px;}#sk-container-id-3 div.sk-estimator {font-family: monospace;background-color: #f0f8ff;border: 1px dotted black;border-radius: 0.25em;box-sizing: border-box;margin-bottom: 0.5em;}#sk-container-id-3 div.sk-estimator:hover {background-color: #d4ebff;}#sk-container-id-3 div.sk-parallel-item::after {content: \"\";width: 100%;border-bottom: 1px solid gray;flex-grow: 1;}#sk-container-id-3 div.sk-label:hover label.sk-toggleable__label {background-color: #d4ebff;}#sk-container-id-3 div.sk-serial::before {content: \"\";position: absolute;border-left: 1px solid gray;box-sizing: border-box;top: 0;bottom: 0;left: 50%;z-index: 0;}#sk-container-id-3 div.sk-serial {display: flex;flex-direction: column;align-items: center;background-color: white;padding-right: 0.2em;padding-left: 0.2em;position: relative;}#sk-container-id-3 div.sk-item {position: relative;z-index: 1;}#sk-container-id-3 div.sk-parallel {display: flex;align-items: stretch;justify-content: center;background-color: white;position: relative;}#sk-container-id-3 div.sk-item::before, #sk-container-id-3 div.sk-parallel-item::before {content: \"\";position: absolute;border-left: 1px solid gray;box-sizing: border-box;top: 0;bottom: 0;left: 50%;z-index: -1;}#sk-container-id-3 div.sk-parallel-item {display: flex;flex-direction: column;z-index: 1;position: relative;background-color: white;}#sk-container-id-3 div.sk-parallel-item:first-child::after {align-self: flex-end;width: 50%;}#sk-container-id-3 div.sk-parallel-item:last-child::after {align-self: flex-start;width: 50%;}#sk-container-id-3 div.sk-parallel-item:only-child::after {width: 0;}#sk-container-id-3 div.sk-dashed-wrapped {border: 1px dashed gray;margin: 0 0.4em 0.5em 0.4em;box-sizing: border-box;padding-bottom: 0.4em;background-color: white;}#sk-container-id-3 div.sk-label label {font-family: monospace;font-weight: bold;display: inline-block;line-height: 1.2em;}#sk-container-id-3 div.sk-label-container {text-align: center;}#sk-container-id-3 div.sk-container {/* jupyter's `normalize.less` sets `[hidden] { display: none; }` but bootstrap.min.css set `[hidden] { display: none !important; }` so we also need the `!important` here to be able to override the default hidden behavior on the sphinx rendered scikit-learn.org. See: https://github.com/scikit-learn/scikit-learn/issues/21755 */display: inline-block !important;position: relative;}#sk-container-id-3 div.sk-text-repr-fallback {display: none;}</style><div id=\"sk-container-id-3\" class=\"sk-top-container\"><div class=\"sk-text-repr-fallback\"><pre>RandomForestClassifier(random_state=42)</pre><b>In a Jupyter environment, please rerun this cell to show the HTML representation or trust the notebook. <br />On GitHub, the HTML representation is unable to render, please try loading this page with nbviewer.org.</b></div><div class=\"sk-container\" hidden><div class=\"sk-item\"><div class=\"sk-estimator sk-toggleable\"><input class=\"sk-toggleable__control sk-hidden--visually\" id=\"sk-estimator-id-5\" type=\"checkbox\" checked><label for=\"sk-estimator-id-5\" class=\"sk-toggleable__label sk-toggleable__label-arrow\">RandomForestClassifier</label><div class=\"sk-toggleable__content\"><pre>RandomForestClassifier(random_state=42)</pre></div></div></div></div></div>"
      ],
      "text/plain": [
       "RandomForestClassifier(random_state=42)"
      ]
     },
     "execution_count": 133,
     "metadata": {},
     "output_type": "execute_result"
    }
   ],
   "source": [
    "rf_model.fit(X_train_selected, y_train)\n",
    "\n"
   ]
  },
  {
   "cell_type": "code",
   "execution_count": 134,
   "id": "35adfd41",
   "metadata": {},
   "outputs": [
    {
     "data": {
      "text/plain": [
       "array(['Dell', 'Dell', 'Apple', 'Apple', 'Apple', 'Apple'], dtype=object)"
      ]
     },
     "execution_count": 134,
     "metadata": {},
     "output_type": "execute_result"
    }
   ],
   "source": [
    "\n",
    "\n",
    "# Make predictions and evaluate the model\n",
    "rf_model.predict(X_test_selected)\n"
   ]
  },
  {
   "cell_type": "code",
   "execution_count": 135,
   "id": "90d6e3de",
   "metadata": {},
   "outputs": [],
   "source": [
    "from sklearn.feature_selection import SelectKBest,f_classif,chi2"
   ]
  },
  {
   "cell_type": "code",
   "execution_count": 136,
   "id": "1551b530",
   "metadata": {},
   "outputs": [
    {
     "data": {
      "text/plain": [
       "(30, 9)"
      ]
     },
     "execution_count": 136,
     "metadata": {},
     "output_type": "execute_result"
    }
   ],
   "source": [
    "X.shape"
   ]
  },
  {
   "cell_type": "code",
   "execution_count": 137,
   "id": "267a29c5",
   "metadata": {},
   "outputs": [],
   "source": [
    "X_new=SelectKBest(chi2,k=6).fit_transform(X,y)"
   ]
  },
  {
   "cell_type": "code",
   "execution_count": 138,
   "id": "1283f385",
   "metadata": {},
   "outputs": [
    {
     "data": {
      "text/plain": [
       "array([[3.200e+01, 3.150e+05, 0.000e+00, 0.000e+00, 1.300e+01, 1.540e+01],\n",
       "       [8.000e+00, 2.320e+05, 0.000e+00, 1.100e+01, 6.000e+00, 1.330e+01],\n",
       "       [3.200e+01, 3.820e+05, 0.000e+00, 2.200e+01, 1.600e+01, 1.600e+01],\n",
       "       [2.600e+01, 1.950e+05, 0.000e+00, 0.000e+00, 8.000e+00, 1.330e+01],\n",
       "       [3.200e+01, 9.240e+04, 0.000e+00, 2.200e+01, 7.000e+00, 1.160e+01],\n",
       "       [4.000e+00, 6.000e+04, 0.000e+00, 2.200e+01, 2.000e+00, 1.330e+01],\n",
       "       [3.200e+01, 1.920e+05, 0.000e+00, 2.200e+01, 1.000e+00, 1.200e+01],\n",
       "       [4.000e+00, 2.247e+05, 0.000e+00, 2.200e+01, 4.000e+00, 1.330e+01],\n",
       "       [2.600e+01, 1.020e+05, 0.000e+00, 3.300e+01, 5.000e+00, 1.330e+01],\n",
       "       [4.000e+00, 3.820e+05, 0.000e+00, 2.200e+01, 1.600e+01, 1.600e+01],\n",
       "       [8.000e+00, 7.850e+04, 0.000e+00, 4.400e+01, 1.400e+01, 1.560e+01],\n",
       "       [3.200e+01, 9.000e+04, 0.000e+00, 4.400e+01, 1.200e+01, 1.560e+01],\n",
       "       [8.000e+00, 1.000e+05, 0.000e+00, 4.400e+01, 1.100e+01, 1.560e+01],\n",
       "       [8.000e+00, 1.250e+05, 1.000e+00, 2.200e+01, 1.400e+01, 1.560e+01],\n",
       "       [8.000e+00, 1.220e+05, 1.000e+00, 2.200e+01, 2.100e+01, 1.400e+01],\n",
       "       [3.200e+01, 1.300e+05, 1.000e+00, 2.200e+01, 1.500e+01, 1.560e+01],\n",
       "       [4.000e+00, 1.850e+05, 0.000e+00, 2.200e+01, 4.000e+00, 1.330e+01],\n",
       "       [2.600e+01, 3.400e+05, 0.000e+00, 2.200e+01, 1.700e+01, 1.700e+01],\n",
       "       [8.000e+00, 2.240e+05, 1.000e+00, 2.200e+01, 3.000e+00, 1.340e+01],\n",
       "       [2.600e+01, 2.990e+05, 0.000e+00, 4.400e+01, 1.900e+01, 1.560e+01],\n",
       "       [2.600e+01, 1.320e+05, 0.000e+00, 2.200e+01, 2.100e+01, 1.300e+01],\n",
       "       [8.000e+00, 1.010e+05, 0.000e+00, 2.200e+01, 2.100e+01, 1.100e+01],\n",
       "       [8.000e+00, 2.000e+05, 0.000e+00, 2.200e+01, 1.300e+01, 1.540e+01],\n",
       "       [4.000e+00, 2.550e+05, 0.000e+00, 2.200e+01, 8.000e+00, 1.330e+01],\n",
       "       [2.600e+01, 1.400e+05, 0.000e+00, 3.300e+01, 7.000e+00, 1.200e+01],\n",
       "       [4.000e+00, 1.700e+05, 0.000e+00, 4.400e+01, 1.800e+01, 1.560e+01],\n",
       "       [4.000e+00, 2.500e+04, 0.000e+00, 4.400e+01, 1.000e+01, 1.560e+01],\n",
       "       [8.000e+00, 6.000e+04, 0.000e+00, 4.400e+01, 9.000e+00, 1.560e+01],\n",
       "       [8.000e+00, 3.320e+04, 0.000e+00, 5.500e+01, 2.000e+01, 1.560e+01],\n",
       "       [2.600e+01, 4.700e+04, 0.000e+00, 4.400e+01, 0.000e+00, 1.250e+01]])"
      ]
     },
     "execution_count": 138,
     "metadata": {},
     "output_type": "execute_result"
    }
   ],
   "source": [
    "X_new"
   ]
  },
  {
   "cell_type": "code",
   "execution_count": 139,
   "id": "0c72b120",
   "metadata": {},
   "outputs": [
    {
     "data": {
      "text/plain": [
       "(30, 6)"
      ]
     },
     "execution_count": 139,
     "metadata": {},
     "output_type": "execute_result"
    }
   ],
   "source": [
    "X_new.shape"
   ]
  },
  {
   "cell_type": "code",
   "execution_count": 140,
   "id": "6dd4de70",
   "metadata": {},
   "outputs": [
    {
     "data": {
      "text/html": [
       "<div>\n",
       "<style scoped>\n",
       "    .dataframe tbody tr th:only-of-type {\n",
       "        vertical-align: middle;\n",
       "    }\n",
       "\n",
       "    .dataframe tbody tr th {\n",
       "        vertical-align: top;\n",
       "    }\n",
       "\n",
       "    .dataframe thead th {\n",
       "        text-align: right;\n",
       "    }\n",
       "</style>\n",
       "<table border=\"1\" class=\"dataframe\">\n",
       "  <thead>\n",
       "    <tr style=\"text-align: right;\">\n",
       "      <th></th>\n",
       "      <th>0</th>\n",
       "      <th>1</th>\n",
       "      <th>2</th>\n",
       "      <th>3</th>\n",
       "      <th>4</th>\n",
       "      <th>5</th>\n",
       "    </tr>\n",
       "  </thead>\n",
       "  <tbody>\n",
       "    <tr>\n",
       "      <th>0</th>\n",
       "      <td>32.0</td>\n",
       "      <td>315000.0</td>\n",
       "      <td>0.0</td>\n",
       "      <td>0.0</td>\n",
       "      <td>13.0</td>\n",
       "      <td>15.4</td>\n",
       "    </tr>\n",
       "    <tr>\n",
       "      <th>1</th>\n",
       "      <td>8.0</td>\n",
       "      <td>232000.0</td>\n",
       "      <td>0.0</td>\n",
       "      <td>11.0</td>\n",
       "      <td>6.0</td>\n",
       "      <td>13.3</td>\n",
       "    </tr>\n",
       "    <tr>\n",
       "      <th>2</th>\n",
       "      <td>32.0</td>\n",
       "      <td>382000.0</td>\n",
       "      <td>0.0</td>\n",
       "      <td>22.0</td>\n",
       "      <td>16.0</td>\n",
       "      <td>16.0</td>\n",
       "    </tr>\n",
       "    <tr>\n",
       "      <th>3</th>\n",
       "      <td>26.0</td>\n",
       "      <td>195000.0</td>\n",
       "      <td>0.0</td>\n",
       "      <td>0.0</td>\n",
       "      <td>8.0</td>\n",
       "      <td>13.3</td>\n",
       "    </tr>\n",
       "    <tr>\n",
       "      <th>4</th>\n",
       "      <td>32.0</td>\n",
       "      <td>92400.0</td>\n",
       "      <td>0.0</td>\n",
       "      <td>22.0</td>\n",
       "      <td>7.0</td>\n",
       "      <td>11.6</td>\n",
       "    </tr>\n",
       "    <tr>\n",
       "      <th>5</th>\n",
       "      <td>4.0</td>\n",
       "      <td>60000.0</td>\n",
       "      <td>0.0</td>\n",
       "      <td>22.0</td>\n",
       "      <td>2.0</td>\n",
       "      <td>13.3</td>\n",
       "    </tr>\n",
       "    <tr>\n",
       "      <th>6</th>\n",
       "      <td>32.0</td>\n",
       "      <td>192000.0</td>\n",
       "      <td>0.0</td>\n",
       "      <td>22.0</td>\n",
       "      <td>1.0</td>\n",
       "      <td>12.0</td>\n",
       "    </tr>\n",
       "    <tr>\n",
       "      <th>7</th>\n",
       "      <td>4.0</td>\n",
       "      <td>224700.0</td>\n",
       "      <td>0.0</td>\n",
       "      <td>22.0</td>\n",
       "      <td>4.0</td>\n",
       "      <td>13.3</td>\n",
       "    </tr>\n",
       "    <tr>\n",
       "      <th>8</th>\n",
       "      <td>26.0</td>\n",
       "      <td>102000.0</td>\n",
       "      <td>0.0</td>\n",
       "      <td>33.0</td>\n",
       "      <td>5.0</td>\n",
       "      <td>13.3</td>\n",
       "    </tr>\n",
       "    <tr>\n",
       "      <th>9</th>\n",
       "      <td>4.0</td>\n",
       "      <td>382000.0</td>\n",
       "      <td>0.0</td>\n",
       "      <td>22.0</td>\n",
       "      <td>16.0</td>\n",
       "      <td>16.0</td>\n",
       "    </tr>\n",
       "    <tr>\n",
       "      <th>10</th>\n",
       "      <td>8.0</td>\n",
       "      <td>78500.0</td>\n",
       "      <td>0.0</td>\n",
       "      <td>44.0</td>\n",
       "      <td>14.0</td>\n",
       "      <td>15.6</td>\n",
       "    </tr>\n",
       "    <tr>\n",
       "      <th>11</th>\n",
       "      <td>32.0</td>\n",
       "      <td>90000.0</td>\n",
       "      <td>0.0</td>\n",
       "      <td>44.0</td>\n",
       "      <td>12.0</td>\n",
       "      <td>15.6</td>\n",
       "    </tr>\n",
       "    <tr>\n",
       "      <th>12</th>\n",
       "      <td>8.0</td>\n",
       "      <td>100000.0</td>\n",
       "      <td>0.0</td>\n",
       "      <td>44.0</td>\n",
       "      <td>11.0</td>\n",
       "      <td>15.6</td>\n",
       "    </tr>\n",
       "    <tr>\n",
       "      <th>13</th>\n",
       "      <td>8.0</td>\n",
       "      <td>125000.0</td>\n",
       "      <td>1.0</td>\n",
       "      <td>22.0</td>\n",
       "      <td>14.0</td>\n",
       "      <td>15.6</td>\n",
       "    </tr>\n",
       "    <tr>\n",
       "      <th>14</th>\n",
       "      <td>8.0</td>\n",
       "      <td>122000.0</td>\n",
       "      <td>1.0</td>\n",
       "      <td>22.0</td>\n",
       "      <td>21.0</td>\n",
       "      <td>14.0</td>\n",
       "    </tr>\n",
       "    <tr>\n",
       "      <th>15</th>\n",
       "      <td>32.0</td>\n",
       "      <td>130000.0</td>\n",
       "      <td>1.0</td>\n",
       "      <td>22.0</td>\n",
       "      <td>15.0</td>\n",
       "      <td>15.6</td>\n",
       "    </tr>\n",
       "    <tr>\n",
       "      <th>16</th>\n",
       "      <td>4.0</td>\n",
       "      <td>185000.0</td>\n",
       "      <td>0.0</td>\n",
       "      <td>22.0</td>\n",
       "      <td>4.0</td>\n",
       "      <td>13.3</td>\n",
       "    </tr>\n",
       "    <tr>\n",
       "      <th>17</th>\n",
       "      <td>26.0</td>\n",
       "      <td>340000.0</td>\n",
       "      <td>0.0</td>\n",
       "      <td>22.0</td>\n",
       "      <td>17.0</td>\n",
       "      <td>17.0</td>\n",
       "    </tr>\n",
       "    <tr>\n",
       "      <th>18</th>\n",
       "      <td>8.0</td>\n",
       "      <td>224000.0</td>\n",
       "      <td>1.0</td>\n",
       "      <td>22.0</td>\n",
       "      <td>3.0</td>\n",
       "      <td>13.4</td>\n",
       "    </tr>\n",
       "    <tr>\n",
       "      <th>19</th>\n",
       "      <td>26.0</td>\n",
       "      <td>299000.0</td>\n",
       "      <td>0.0</td>\n",
       "      <td>44.0</td>\n",
       "      <td>19.0</td>\n",
       "      <td>15.6</td>\n",
       "    </tr>\n",
       "    <tr>\n",
       "      <th>20</th>\n",
       "      <td>26.0</td>\n",
       "      <td>132000.0</td>\n",
       "      <td>0.0</td>\n",
       "      <td>22.0</td>\n",
       "      <td>21.0</td>\n",
       "      <td>13.0</td>\n",
       "    </tr>\n",
       "    <tr>\n",
       "      <th>21</th>\n",
       "      <td>8.0</td>\n",
       "      <td>101000.0</td>\n",
       "      <td>0.0</td>\n",
       "      <td>22.0</td>\n",
       "      <td>21.0</td>\n",
       "      <td>11.0</td>\n",
       "    </tr>\n",
       "    <tr>\n",
       "      <th>22</th>\n",
       "      <td>8.0</td>\n",
       "      <td>200000.0</td>\n",
       "      <td>0.0</td>\n",
       "      <td>22.0</td>\n",
       "      <td>13.0</td>\n",
       "      <td>15.4</td>\n",
       "    </tr>\n",
       "    <tr>\n",
       "      <th>23</th>\n",
       "      <td>4.0</td>\n",
       "      <td>255000.0</td>\n",
       "      <td>0.0</td>\n",
       "      <td>22.0</td>\n",
       "      <td>8.0</td>\n",
       "      <td>13.3</td>\n",
       "    </tr>\n",
       "    <tr>\n",
       "      <th>24</th>\n",
       "      <td>26.0</td>\n",
       "      <td>140000.0</td>\n",
       "      <td>0.0</td>\n",
       "      <td>33.0</td>\n",
       "      <td>7.0</td>\n",
       "      <td>12.0</td>\n",
       "    </tr>\n",
       "    <tr>\n",
       "      <th>25</th>\n",
       "      <td>4.0</td>\n",
       "      <td>170000.0</td>\n",
       "      <td>0.0</td>\n",
       "      <td>44.0</td>\n",
       "      <td>18.0</td>\n",
       "      <td>15.6</td>\n",
       "    </tr>\n",
       "    <tr>\n",
       "      <th>26</th>\n",
       "      <td>4.0</td>\n",
       "      <td>25000.0</td>\n",
       "      <td>0.0</td>\n",
       "      <td>44.0</td>\n",
       "      <td>10.0</td>\n",
       "      <td>15.6</td>\n",
       "    </tr>\n",
       "    <tr>\n",
       "      <th>27</th>\n",
       "      <td>8.0</td>\n",
       "      <td>60000.0</td>\n",
       "      <td>0.0</td>\n",
       "      <td>44.0</td>\n",
       "      <td>9.0</td>\n",
       "      <td>15.6</td>\n",
       "    </tr>\n",
       "    <tr>\n",
       "      <th>28</th>\n",
       "      <td>8.0</td>\n",
       "      <td>33200.0</td>\n",
       "      <td>0.0</td>\n",
       "      <td>55.0</td>\n",
       "      <td>20.0</td>\n",
       "      <td>15.6</td>\n",
       "    </tr>\n",
       "    <tr>\n",
       "      <th>29</th>\n",
       "      <td>26.0</td>\n",
       "      <td>47000.0</td>\n",
       "      <td>0.0</td>\n",
       "      <td>44.0</td>\n",
       "      <td>0.0</td>\n",
       "      <td>12.5</td>\n",
       "    </tr>\n",
       "  </tbody>\n",
       "</table>\n",
       "</div>"
      ],
      "text/plain": [
       "       0         1    2     3     4     5\n",
       "0   32.0  315000.0  0.0   0.0  13.0  15.4\n",
       "1    8.0  232000.0  0.0  11.0   6.0  13.3\n",
       "2   32.0  382000.0  0.0  22.0  16.0  16.0\n",
       "3   26.0  195000.0  0.0   0.0   8.0  13.3\n",
       "4   32.0   92400.0  0.0  22.0   7.0  11.6\n",
       "5    4.0   60000.0  0.0  22.0   2.0  13.3\n",
       "6   32.0  192000.0  0.0  22.0   1.0  12.0\n",
       "7    4.0  224700.0  0.0  22.0   4.0  13.3\n",
       "8   26.0  102000.0  0.0  33.0   5.0  13.3\n",
       "9    4.0  382000.0  0.0  22.0  16.0  16.0\n",
       "10   8.0   78500.0  0.0  44.0  14.0  15.6\n",
       "11  32.0   90000.0  0.0  44.0  12.0  15.6\n",
       "12   8.0  100000.0  0.0  44.0  11.0  15.6\n",
       "13   8.0  125000.0  1.0  22.0  14.0  15.6\n",
       "14   8.0  122000.0  1.0  22.0  21.0  14.0\n",
       "15  32.0  130000.0  1.0  22.0  15.0  15.6\n",
       "16   4.0  185000.0  0.0  22.0   4.0  13.3\n",
       "17  26.0  340000.0  0.0  22.0  17.0  17.0\n",
       "18   8.0  224000.0  1.0  22.0   3.0  13.4\n",
       "19  26.0  299000.0  0.0  44.0  19.0  15.6\n",
       "20  26.0  132000.0  0.0  22.0  21.0  13.0\n",
       "21   8.0  101000.0  0.0  22.0  21.0  11.0\n",
       "22   8.0  200000.0  0.0  22.0  13.0  15.4\n",
       "23   4.0  255000.0  0.0  22.0   8.0  13.3\n",
       "24  26.0  140000.0  0.0  33.0   7.0  12.0\n",
       "25   4.0  170000.0  0.0  44.0  18.0  15.6\n",
       "26   4.0   25000.0  0.0  44.0  10.0  15.6\n",
       "27   8.0   60000.0  0.0  44.0   9.0  15.6\n",
       "28   8.0   33200.0  0.0  55.0  20.0  15.6\n",
       "29  26.0   47000.0  0.0  44.0   0.0  12.5"
      ]
     },
     "execution_count": 140,
     "metadata": {},
     "output_type": "execute_result"
    }
   ],
   "source": [
    "pd.DataFrame(X_new)"
   ]
  },
  {
   "cell_type": "code",
   "execution_count": 141,
   "id": "11d294ca",
   "metadata": {},
   "outputs": [],
   "source": [
    "feature_imp = SelectKBest(score_func=f_classif,k=6)"
   ]
  },
  {
   "cell_type": "code",
   "execution_count": 142,
   "id": "5f373a02",
   "metadata": {},
   "outputs": [
    {
     "data": {
      "text/html": [
       "<style>#sk-container-id-4 {color: black;background-color: white;}#sk-container-id-4 pre{padding: 0;}#sk-container-id-4 div.sk-toggleable {background-color: white;}#sk-container-id-4 label.sk-toggleable__label {cursor: pointer;display: block;width: 100%;margin-bottom: 0;padding: 0.3em;box-sizing: border-box;text-align: center;}#sk-container-id-4 label.sk-toggleable__label-arrow:before {content: \"▸\";float: left;margin-right: 0.25em;color: #696969;}#sk-container-id-4 label.sk-toggleable__label-arrow:hover:before {color: black;}#sk-container-id-4 div.sk-estimator:hover label.sk-toggleable__label-arrow:before {color: black;}#sk-container-id-4 div.sk-toggleable__content {max-height: 0;max-width: 0;overflow: hidden;text-align: left;background-color: #f0f8ff;}#sk-container-id-4 div.sk-toggleable__content pre {margin: 0.2em;color: black;border-radius: 0.25em;background-color: #f0f8ff;}#sk-container-id-4 input.sk-toggleable__control:checked~div.sk-toggleable__content {max-height: 200px;max-width: 100%;overflow: auto;}#sk-container-id-4 input.sk-toggleable__control:checked~label.sk-toggleable__label-arrow:before {content: \"▾\";}#sk-container-id-4 div.sk-estimator input.sk-toggleable__control:checked~label.sk-toggleable__label {background-color: #d4ebff;}#sk-container-id-4 div.sk-label input.sk-toggleable__control:checked~label.sk-toggleable__label {background-color: #d4ebff;}#sk-container-id-4 input.sk-hidden--visually {border: 0;clip: rect(1px 1px 1px 1px);clip: rect(1px, 1px, 1px, 1px);height: 1px;margin: -1px;overflow: hidden;padding: 0;position: absolute;width: 1px;}#sk-container-id-4 div.sk-estimator {font-family: monospace;background-color: #f0f8ff;border: 1px dotted black;border-radius: 0.25em;box-sizing: border-box;margin-bottom: 0.5em;}#sk-container-id-4 div.sk-estimator:hover {background-color: #d4ebff;}#sk-container-id-4 div.sk-parallel-item::after {content: \"\";width: 100%;border-bottom: 1px solid gray;flex-grow: 1;}#sk-container-id-4 div.sk-label:hover label.sk-toggleable__label {background-color: #d4ebff;}#sk-container-id-4 div.sk-serial::before {content: \"\";position: absolute;border-left: 1px solid gray;box-sizing: border-box;top: 0;bottom: 0;left: 50%;z-index: 0;}#sk-container-id-4 div.sk-serial {display: flex;flex-direction: column;align-items: center;background-color: white;padding-right: 0.2em;padding-left: 0.2em;position: relative;}#sk-container-id-4 div.sk-item {position: relative;z-index: 1;}#sk-container-id-4 div.sk-parallel {display: flex;align-items: stretch;justify-content: center;background-color: white;position: relative;}#sk-container-id-4 div.sk-item::before, #sk-container-id-4 div.sk-parallel-item::before {content: \"\";position: absolute;border-left: 1px solid gray;box-sizing: border-box;top: 0;bottom: 0;left: 50%;z-index: -1;}#sk-container-id-4 div.sk-parallel-item {display: flex;flex-direction: column;z-index: 1;position: relative;background-color: white;}#sk-container-id-4 div.sk-parallel-item:first-child::after {align-self: flex-end;width: 50%;}#sk-container-id-4 div.sk-parallel-item:last-child::after {align-self: flex-start;width: 50%;}#sk-container-id-4 div.sk-parallel-item:only-child::after {width: 0;}#sk-container-id-4 div.sk-dashed-wrapped {border: 1px dashed gray;margin: 0 0.4em 0.5em 0.4em;box-sizing: border-box;padding-bottom: 0.4em;background-color: white;}#sk-container-id-4 div.sk-label label {font-family: monospace;font-weight: bold;display: inline-block;line-height: 1.2em;}#sk-container-id-4 div.sk-label-container {text-align: center;}#sk-container-id-4 div.sk-container {/* jupyter's `normalize.less` sets `[hidden] { display: none; }` but bootstrap.min.css set `[hidden] { display: none !important; }` so we also need the `!important` here to be able to override the default hidden behavior on the sphinx rendered scikit-learn.org. See: https://github.com/scikit-learn/scikit-learn/issues/21755 */display: inline-block !important;position: relative;}#sk-container-id-4 div.sk-text-repr-fallback {display: none;}</style><div id=\"sk-container-id-4\" class=\"sk-top-container\"><div class=\"sk-text-repr-fallback\"><pre>SelectKBest(k=6)</pre><b>In a Jupyter environment, please rerun this cell to show the HTML representation or trust the notebook. <br />On GitHub, the HTML representation is unable to render, please try loading this page with nbviewer.org.</b></div><div class=\"sk-container\" hidden><div class=\"sk-item\"><div class=\"sk-estimator sk-toggleable\"><input class=\"sk-toggleable__control sk-hidden--visually\" id=\"sk-estimator-id-6\" type=\"checkbox\" checked><label for=\"sk-estimator-id-6\" class=\"sk-toggleable__label sk-toggleable__label-arrow\">SelectKBest</label><div class=\"sk-toggleable__content\"><pre>SelectKBest(k=6)</pre></div></div></div></div></div>"
      ],
      "text/plain": [
       "SelectKBest(k=6)"
      ]
     },
     "execution_count": 142,
     "metadata": {},
     "output_type": "execute_result"
    }
   ],
   "source": [
    "feature_imp.fit(X,y)"
   ]
  },
  {
   "cell_type": "code",
   "execution_count": 143,
   "id": "3b600f41",
   "metadata": {},
   "outputs": [
    {
     "data": {
      "text/plain": [
       "9"
      ]
     },
     "execution_count": 143,
     "metadata": {},
     "output_type": "execute_result"
    }
   ],
   "source": [
    "feature_imp.n_features_in_"
   ]
  },
  {
   "cell_type": "code",
   "execution_count": 144,
   "id": "42d66168",
   "metadata": {},
   "outputs": [
    {
     "data": {
      "text/plain": [
       "array([ 0.95526839,  0.10623946,  0.72085106,  3.34309254,  0.06703176,\n",
       "        5.09090909, 16.52682927,  1.23286244,  9.81595092])"
      ]
     },
     "execution_count": 144,
     "metadata": {},
     "output_type": "execute_result"
    }
   ],
   "source": [
    "feature_imp.scores_"
   ]
  },
  {
   "cell_type": "code",
   "execution_count": 145,
   "id": "ba4f243e",
   "metadata": {},
   "outputs": [],
   "source": [
    "df_imp=pd.DataFrame(feature_imp.scores_,columns=['scores'])"
   ]
  },
  {
   "cell_type": "code",
   "execution_count": 146,
   "id": "1cd260a6",
   "metadata": {},
   "outputs": [
    {
     "data": {
      "text/html": [
       "<div>\n",
       "<style scoped>\n",
       "    .dataframe tbody tr th:only-of-type {\n",
       "        vertical-align: middle;\n",
       "    }\n",
       "\n",
       "    .dataframe tbody tr th {\n",
       "        vertical-align: top;\n",
       "    }\n",
       "\n",
       "    .dataframe thead th {\n",
       "        text-align: right;\n",
       "    }\n",
       "</style>\n",
       "<table border=\"1\" class=\"dataframe\">\n",
       "  <thead>\n",
       "    <tr style=\"text-align: right;\">\n",
       "      <th></th>\n",
       "      <th>scores</th>\n",
       "    </tr>\n",
       "  </thead>\n",
       "  <tbody>\n",
       "    <tr>\n",
       "      <th>0</th>\n",
       "      <td>0.955268</td>\n",
       "    </tr>\n",
       "    <tr>\n",
       "      <th>1</th>\n",
       "      <td>0.106239</td>\n",
       "    </tr>\n",
       "    <tr>\n",
       "      <th>2</th>\n",
       "      <td>0.720851</td>\n",
       "    </tr>\n",
       "    <tr>\n",
       "      <th>3</th>\n",
       "      <td>3.343093</td>\n",
       "    </tr>\n",
       "    <tr>\n",
       "      <th>4</th>\n",
       "      <td>0.067032</td>\n",
       "    </tr>\n",
       "    <tr>\n",
       "      <th>5</th>\n",
       "      <td>5.090909</td>\n",
       "    </tr>\n",
       "    <tr>\n",
       "      <th>6</th>\n",
       "      <td>16.526829</td>\n",
       "    </tr>\n",
       "    <tr>\n",
       "      <th>7</th>\n",
       "      <td>1.232862</td>\n",
       "    </tr>\n",
       "    <tr>\n",
       "      <th>8</th>\n",
       "      <td>9.815951</td>\n",
       "    </tr>\n",
       "  </tbody>\n",
       "</table>\n",
       "</div>"
      ],
      "text/plain": [
       "      scores\n",
       "0   0.955268\n",
       "1   0.106239\n",
       "2   0.720851\n",
       "3   3.343093\n",
       "4   0.067032\n",
       "5   5.090909\n",
       "6  16.526829\n",
       "7   1.232862\n",
       "8   9.815951"
      ]
     },
     "execution_count": 146,
     "metadata": {},
     "output_type": "execute_result"
    }
   ],
   "source": [
    "df_imp"
   ]
  },
  {
   "cell_type": "code",
   "execution_count": 150,
   "id": "c998a74b",
   "metadata": {},
   "outputs": [],
   "source": [
    "df_score_features=pd.concat([df_imp,df_columns],axis=1)"
   ]
  },
  {
   "cell_type": "code",
   "execution_count": 149,
   "id": "8cc1614b",
   "metadata": {},
   "outputs": [],
   "source": [
    "df_columns=pd.DataFrame(df6.columns,columns=['features'])"
   ]
  },
  {
   "cell_type": "code",
   "execution_count": 151,
   "id": "c4856857",
   "metadata": {},
   "outputs": [
    {
     "data": {
      "text/html": [
       "<div>\n",
       "<style scoped>\n",
       "    .dataframe tbody tr th:only-of-type {\n",
       "        vertical-align: middle;\n",
       "    }\n",
       "\n",
       "    .dataframe tbody tr th {\n",
       "        vertical-align: top;\n",
       "    }\n",
       "\n",
       "    .dataframe thead th {\n",
       "        text-align: right;\n",
       "    }\n",
       "</style>\n",
       "<table border=\"1\" class=\"dataframe\">\n",
       "  <thead>\n",
       "    <tr style=\"text-align: right;\">\n",
       "      <th></th>\n",
       "      <th>scores</th>\n",
       "      <th>features</th>\n",
       "    </tr>\n",
       "  </thead>\n",
       "  <tbody>\n",
       "    <tr>\n",
       "      <th>0</th>\n",
       "      <td>0.955268</td>\n",
       "      <td>Brand</td>\n",
       "    </tr>\n",
       "    <tr>\n",
       "      <th>1</th>\n",
       "      <td>0.106239</td>\n",
       "      <td>ItemID</td>\n",
       "    </tr>\n",
       "    <tr>\n",
       "      <th>2</th>\n",
       "      <td>0.720851</td>\n",
       "      <td>Ram(Gb)</td>\n",
       "    </tr>\n",
       "    <tr>\n",
       "      <th>3</th>\n",
       "      <td>3.343093</td>\n",
       "      <td>StoraGe(Gb)</td>\n",
       "    </tr>\n",
       "    <tr>\n",
       "      <th>4</th>\n",
       "      <td>0.067032</td>\n",
       "      <td>Price(Rs)</td>\n",
       "    </tr>\n",
       "    <tr>\n",
       "      <th>5</th>\n",
       "      <td>5.090909</td>\n",
       "      <td>Processorspeed(GHz)</td>\n",
       "    </tr>\n",
       "    <tr>\n",
       "      <th>6</th>\n",
       "      <td>16.526829</td>\n",
       "      <td>Touch</td>\n",
       "    </tr>\n",
       "    <tr>\n",
       "      <th>7</th>\n",
       "      <td>1.232862</td>\n",
       "      <td>Color</td>\n",
       "    </tr>\n",
       "    <tr>\n",
       "      <th>8</th>\n",
       "      <td>9.815951</td>\n",
       "      <td>Weight</td>\n",
       "    </tr>\n",
       "    <tr>\n",
       "      <th>9</th>\n",
       "      <td>NaN</td>\n",
       "      <td>DisplAysize(Inch)</td>\n",
       "    </tr>\n",
       "  </tbody>\n",
       "</table>\n",
       "</div>"
      ],
      "text/plain": [
       "      scores             features\n",
       "0   0.955268                Brand\n",
       "1   0.106239               ItemID\n",
       "2   0.720851              Ram(Gb)\n",
       "3   3.343093          StoraGe(Gb)\n",
       "4   0.067032            Price(Rs)\n",
       "5   5.090909  Processorspeed(GHz)\n",
       "6  16.526829                Touch\n",
       "7   1.232862                Color\n",
       "8   9.815951               Weight\n",
       "9        NaN    DisplAysize(Inch)"
      ]
     },
     "execution_count": 151,
     "metadata": {},
     "output_type": "execute_result"
    }
   ],
   "source": [
    "df_score_features"
   ]
  },
  {
   "cell_type": "code",
   "execution_count": 152,
   "id": "eedd61da",
   "metadata": {},
   "outputs": [
    {
     "data": {
      "text/html": [
       "<div>\n",
       "<style scoped>\n",
       "    .dataframe tbody tr th:only-of-type {\n",
       "        vertical-align: middle;\n",
       "    }\n",
       "\n",
       "    .dataframe tbody tr th {\n",
       "        vertical-align: top;\n",
       "    }\n",
       "\n",
       "    .dataframe thead th {\n",
       "        text-align: right;\n",
       "    }\n",
       "</style>\n",
       "<table border=\"1\" class=\"dataframe\">\n",
       "  <thead>\n",
       "    <tr style=\"text-align: right;\">\n",
       "      <th></th>\n",
       "      <th>scores</th>\n",
       "      <th>features</th>\n",
       "    </tr>\n",
       "  </thead>\n",
       "  <tbody>\n",
       "    <tr>\n",
       "      <th>6</th>\n",
       "      <td>16.526829</td>\n",
       "      <td>Touch</td>\n",
       "    </tr>\n",
       "    <tr>\n",
       "      <th>8</th>\n",
       "      <td>9.815951</td>\n",
       "      <td>Weight</td>\n",
       "    </tr>\n",
       "    <tr>\n",
       "      <th>5</th>\n",
       "      <td>5.090909</td>\n",
       "      <td>Processorspeed(GHz)</td>\n",
       "    </tr>\n",
       "    <tr>\n",
       "      <th>3</th>\n",
       "      <td>3.343093</td>\n",
       "      <td>StoraGe(Gb)</td>\n",
       "    </tr>\n",
       "    <tr>\n",
       "      <th>7</th>\n",
       "      <td>1.232862</td>\n",
       "      <td>Color</td>\n",
       "    </tr>\n",
       "    <tr>\n",
       "      <th>0</th>\n",
       "      <td>0.955268</td>\n",
       "      <td>Brand</td>\n",
       "    </tr>\n",
       "  </tbody>\n",
       "</table>\n",
       "</div>"
      ],
      "text/plain": [
       "      scores             features\n",
       "6  16.526829                Touch\n",
       "8   9.815951               Weight\n",
       "5   5.090909  Processorspeed(GHz)\n",
       "3   3.343093          StoraGe(Gb)\n",
       "7   1.232862                Color\n",
       "0   0.955268                Brand"
      ]
     },
     "execution_count": 152,
     "metadata": {},
     "output_type": "execute_result"
    }
   ],
   "source": [
    "df_score_features.nlargest(6,'scores')"
   ]
  },
  {
   "cell_type": "code",
   "execution_count": null,
   "id": "add21939",
   "metadata": {},
   "outputs": [],
   "source": []
  }
 ],
 "metadata": {
  "kernelspec": {
   "display_name": "Python 3 (ipykernel)",
   "language": "python",
   "name": "python3"
  },
  "language_info": {
   "codemirror_mode": {
    "name": "ipython",
    "version": 3
   },
   "file_extension": ".py",
   "mimetype": "text/x-python",
   "name": "python",
   "nbconvert_exporter": "python",
   "pygments_lexer": "ipython3",
   "version": "3.10.9"
  }
 },
 "nbformat": 4,
 "nbformat_minor": 5
}
